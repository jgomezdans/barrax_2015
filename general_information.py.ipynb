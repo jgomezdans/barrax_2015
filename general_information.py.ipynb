{
 "cells": [
  {
   "cell_type": "markdown",
   "metadata": {},
   "source": [
    "# NERC Field Spectroscopy Summer School"
   ]
  },
  {
   "cell_type": "markdown",
   "metadata": {},
   "source": [
    "## J Gómez Dans (NCEO & UCL)"
   ]
  },
  {
   "cell_type": "markdown",
   "metadata": {},
   "source": [
    "### Software requirements"
   ]
  },
  {
   "cell_type": "markdown",
   "metadata": {},
   "source": [
    "For most of the practicals, we will be using the Python programming language. The reason for this is that Python is free, easy to distribute and relatively straightforward to program even for beginners. Python also plays well with older code written in e.g. Fortran or C, as well as having a fairly complete set of libraries for numerical tasks, including linear algebra, statistics, etc.\n",
    "\n",
    "We recommend you use the [Anaconda Python Distribution](https://store.continuum.io/cshop/anaconda/), a freely available compendium of both Python and numerical and scientific packages. Anaconda is available for\n",
    "\n",
    "* UNIX\n",
    "* Windows\n",
    "* Mac OSX\n",
    "\n",
    "You should download and install the Anaconda version that supports **Python 2.7** in your laptop."
   ]
  },
  {
   "cell_type": "markdown",
   "metadata": {},
   "source": [
    "### IPython notebooks"
   ]
  },
  {
   "cell_type": "markdown",
   "metadata": {},
   "source": [
    "The practicals have associated code and explanations, and are written in [IPython notebooks](http://ipython.org/notebook.html). That means that the code is there for you to modify and explore. IPython notebooks are edited through a web browser. Text and code are entered through cells. Cells can either be standard text (like this one), entered and formatted using [markdown syntax](https://github.com/adam-p/markdown-here/wiki/Markdown-Cheatsheet). Code is entered in Code cells, perhaps unsurprisingly. "
   ]
  },
  {
   "cell_type": "markdown",
   "metadata": {},
   "source": [
    "### Some example use of the notebook"
   ]
  },
  {
   "cell_type": "markdown",
   "metadata": {},
   "source": [
    "In Python, the libraries that will get used need to be *imported* (i.e. you need to make the system aware that you will be using them). Typically, we will want to use numerical arrays ([Numpy](http://www.numpy.org/)), [Matplotlib](http://matlotlib.org/) for plotting, and [Scipy](http://scipy.org/) for a wide range of numerical tools. The latter library is quite large, and we will only import it when it's actually needed. The other two are quite likely to be used, so here's how we invoke them:"
   ]
  },
  {
   "cell_type": "code",
   "execution_count": 1,
   "metadata": {
    "collapsed": true
   },
   "outputs": [],
   "source": [
    "import numpy as np\n",
    "import matplotlib.pyplot as plt\n",
    "# The next line ensures that your plots are displayed in the notebook\n",
    "# not in a separate window\n",
    "%matplotlib inline"
   ]
  },
  {
   "cell_type": "code",
   "execution_count": 7,
   "metadata": {
    "collapsed": false
   },
   "outputs": [
    {
     "data": {
      "text/plain": [
       "<matplotlib.text.Text at 0x7feae5d90710>"
      ]
     },
     "execution_count": 7,
     "metadata": {},
     "output_type": "execute_result"
    },
    {
     "data": {
      "image/png": "[encoded data removed]",
      "text/plain": [
       "<matplotlib.figure.Figure at 0x7feae5d992d0>"
      ]
     },
     "metadata": {},
     "output_type": "display_data"
    }
   ],
   "source": [
    "x = np.arange ( 0, 2*np.pi, 0.01 )\n",
    "plt.plot ( x, np.sin(3*x)**5, '-')\n",
    "plt.xlabel('The $x$ axis [-]')\n",
    "plt.ylabel('The $y$ axis [-]')"
   ]
  },
  {
   "cell_type": "code",
   "execution_count": null,
   "metadata": {
    "collapsed": true
   },
   "outputs": [],
   "source": []
  }
 ],
 "metadata": {
  "kernelspec": {
   "display_name": "Python 2",
   "language": "python",
   "name": "python2"
  },
  "language_info": {
   "codemirror_mode": {
    "name": "ipython",
    "version": 2
   },
   "file_extension": ".py",
   "mimetype": "text/x-python",
   "name": "python",
   "nbconvert_exporter": "python",
   "pygments_lexer": "ipython2",
   "version": "2.7.9"
  }
 },
 "nbformat": 4,
 "nbformat_minor": 0
}
