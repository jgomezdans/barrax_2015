{
 "cells": [
  {
   "cell_type": "markdown",
   "metadata": {
    "slideshow": {
     "slide_type": "slide"
    }
   },
   "source": [
    "<img width=100% src=./figs/pres_header.png />\n",
    "# Introduction to radiative transfer modelling \n",
    "## J Gómez-Dans (UCL & NCEO)\n",
    "``j.gomez-dans@ucl.ac.uk``\n",
    "\n",
    "<img width=100% src=\"./figs/pres_footer.png\" />"
   ]
  },
  {
   "cell_type": "markdown",
   "metadata": {
    "slideshow": {
     "slide_type": "slide"
    }
   },
   "source": [
    "## Introduction to modeling lectures\n",
    "1. Motivation\n",
    "2. Modelling leaf optical properties\n",
    "3. Modelling canopies in the optical domain"
   ]
  },
  {
   "cell_type": "markdown",
   "metadata": {
    "slideshow": {
     "slide_type": "slide"
    }
   },
   "source": [
    "### Motivation\n",
    "\n",
    "* Model: formulation of physical principles that produce signals you measure.\n",
    "* Models are **simplifications of reality**, and thus are not reality\n",
    "    * We need to know strengths AND weaknesses of models\n",
    "* In EO, we are interested in processes that describe how  photon-atmosphere-canopy interactions $\\Rightarrow$ **radiative transfer theory** (RT)\n",
    "* Some interesting quotations (H/T Mat Disney@UCL\n",
    "\n",
    "> “All models are wrong but some are useful” – *George Box*\n",
    "\n",
    "> “The purpose of models is not to fit the data but to sharpen the questions” – *Samuel Karlin*\n",
    "\n",
    ">“No one trusts a model except the person who wrote it. Everyone trusts an observation except the person who made it.” – *Anon. *"
   ]
  },
  {
   "cell_type": "markdown",
   "metadata": {
    "slideshow": {
     "slide_type": "slide"
    }
   },
   "source": [
    "### Some uses of physcal models\n",
    "\n",
    "* Inform data collection\n",
    "    * Observng System Observation Experiments (OSSEs)\n",
    "    * Satellite mission simulators\n",
    "* Consistent treatment of data from different instruments\n",
    "    * Can treat spectral, angular and spatial acquisition characteristics\n",
    "    * Data pre-processing and conditioning \n",
    "* Consistent use of data from e.g. microwave, optical and thermal domain.\n",
    "* Parameter retrieval\n",
    "    * The model can be used to interpret observations in terms of model input parameters\n",
    "* Interpolation/Extrapolation\n",
    "    * Extend observations\n",
    "* Understand sensitivity of observation"
   ]
  },
  {
   "cell_type": "markdown",
   "metadata": {
    "slideshow": {
     "slide_type": "slide"
    }
   },
   "source": [
    "![](./figs/istock_warning_tape_cropped__1234281031_9929.jpg)\n",
    "* modelling entails **assumptions**\n",
    "* **You** need to understand the assumptions\n",
    "* ... and assess whether they are acceptable for your application!"
   ]
  },
  {
   "cell_type": "markdown",
   "metadata": {
    "slideshow": {
     "slide_type": "slide"
    }
   },
   "source": [
    "###Physical models and EO\n",
    "\n",
    "* Typically want to monitor processes over vast areas, different time scales...\n",
    "* EO is an indirect **measurement**, so data we acquire needs to be **interpreted**\n",
    "* Eg: we measure radiance from a sensor\n",
    "    * ... but you said you were interested in delimiting land use!\n",
    "    * ... bit you said you were interested in assessing fire danger!\n",
    "* Data interpretation can be done in two ways:\n",
    "    * **Empirical models**: measure magnitude of interest $\\leadsto$  pairing with EO data $\\leadsto$ finding a statistical relationship\n",
    "    * **Mechanistic models**: by considering the processes that produce the observations, and using this understanding to quantify variables of interest."
   ]
  },
  {
   "cell_type": "markdown",
   "metadata": {
    "slideshow": {
     "slide_type": "slide"
    }
   },
   "source": [
    "###An example of an empirical model\n",
    "![Ouyang et al (2012)](./figs/grass_biomass_NDVI.png)\n",
    "\n",
    "*From Ouyang et al (2012)"
   ]
  },
  {
   "cell_type": "markdown",
   "metadata": {
    "slideshow": {
     "slide_type": "slide"
    }
   },
   "source": [
    "###An example of a mechanistic model\n",
    "![Lewis' millet raytrace](./figs/millet.gif)"
   ]
  },
  {
   "cell_type": "markdown",
   "metadata": {
    "slideshow": {
     "slide_type": "slide"
    }
   },
   "source": [
    "###Assumptions!\n",
    "* In both cases, there are assumptions:\n",
    "    * An empirical model is typically derived for a particular\n",
    "        * Location\n",
    "        * Time\n",
    "        * Sensor\n",
    "    * A mechanistic model makes assumptions on \n",
    "        * processes included and ignored\n",
    "        * simplifications of the processes\n",
    "* Physical models explicitly enconde basic properties of system\n",
    "    * Energy conservation\n",
    "    * Reciprocity\n"
   ]
  },
  {
   "cell_type": "markdown",
   "metadata": {
    "slideshow": {
     "slide_type": "slide"
    }
   },
   "source": [
    "###Model error\n",
    "\n",
    "* Observations have experimental error (e.g. errorbars!)\n",
    "* Model error encodes the price that the model inadequacy in predicting reality\n",
    "* It is usually very hard to assess formally\n",
    "* ... and thus often disregarded"
   ]
  }
 ],
 "metadata": {
  "celltoolbar": "Slideshow",
  "kernelspec": {
   "display_name": "Python 2",
   "language": "python",
   "name": "python2"
  },
  "language_info": {
   "codemirror_mode": {
    "name": "ipython",
    "version": 2
   },
   "file_extension": ".py",
   "mimetype": "text/x-python",
   "name": "python",
   "nbconvert_exporter": "python",
   "pygments_lexer": "ipython2",
   "version": "2.7.9"
  }
 },
 "nbformat": 4,
 "nbformat_minor": 0
}
