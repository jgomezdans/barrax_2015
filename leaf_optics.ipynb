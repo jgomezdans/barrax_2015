{
 "cells": [
  {
   "cell_type": "markdown",
   "metadata": {},
   "source": [
    "# Optical properties of leaves"
   ]
  },
  {
   "cell_type": "markdown",
   "metadata": {},
   "source": [
    "## J Gómez-Dans (NCEO & UCL)"
   ]
  },
  {
   "cell_type": "markdown",
   "metadata": {},
   "source": [
    "In order to understand the reflectance signal acquired by a passive sensor that captures the sunlight scattered by a canopy, we need to understand how the different pigments that contribute to reflectance and transmittance of leaves, as well as understanding the geometrical disposition of leaves within the canopy. We will first look at an individual leaf, and try to come up with a simple model of how reflectance and transmittance can be calculated.\n",
    "\n",
    "We will focus on the widely used PROSPECT model by [Jacquemoud *et al*, 1990](http://www2.geog.ucl.ac.uk/~mdisney/teaching/teachingNEW/GEOGG141/papers/jacqemoud_baret_prospect.pdf). Although other models do exist, PROSPECT is straightforward and works reasonably well."
   ]
  },
  {
   "cell_type": "markdown",
   "metadata": {},
   "source": [
    "### Some first concepts"
   ]
  },
  {
   "cell_type": "markdown",
   "metadata": {},
   "source": [
    "As a flux of photons hits an object, the photons can either be absorbed by the object ($A$), scattered away ($R$), or be transmitted ($T$) by the object. Conservation laws imply that the sum of absorptance, reflectance and transmittance is one:\n",
    "$$\n",
    "A + R + T = 1.\n",
    "$$\n",
    "Note that the value of these three magnitudes varies with wavelength ($\\lambda$). Understanding the processes that give rise to these changes over the spectrum allows us to infer something about the leaf biochemical and structural composition.\n",
    "![Internal leaf structure diagram](leaf++struture++cuticle+mesophyll+stoma.gif)\n",
    "\n",
    "We further consider that reflectance has a surface ($R_s$) component and a component due to the multiple scattering that takes place within the leaf, $R_d$. The first component is due to the air-leaf interface and the waxy leaf surface, and is fairly important. This surface reflectance is controlled thus by the surface properties and leaf surface microtopography. It has been observed that this component is far from *Lambertian* (isotropic), exhibiting a strong *directional effect*. \n",
    "\n",
    "$R_d$ is mostly a consequence of air-cell wall interfaces. As a photon beam enters the leaf, it will traverse it suffering reflectance every time it encounters a discontinuity, following a unique pattern within the leaf, and either being reflected \"upwards\" through the leaf surface or \"downwards\" through the opposite surface of the leaf. These interactions are assumed to provide a reflected and transmitted fluxes that are broadly non-directional (Lambertian). The combination of $R_s$ and $R_d$ result in the observed directional and Lambertian properties of the leaf BRDF (bi-hemispherical reflectance distribution function)\n",
    "\n",
    "The diffuse term thus is the result of photons traversing the leaf and interacting with different components of the mesophyll, and thus opens the possibiity to learn about the internal composition and structure of leaves by looking at how light is scattered by them.\n",
    "\n",
    "We define the optical domain to lie between 400 and 2500$nm$. The following plot shows the spectral reflectance and transmittance from a clover leaf from the LOPEX'93 database:\n",
    "\n",
    "![Clover reflectance and Transmittance](./LOPEX_clover_spectrum.png)\n",
    "\n",
    "In the visible region (400-700nm), there is a strong absorption of radiation by green leaves (note the peak in the green region, around 550nm). If chlorophyll concentration is low, absorption in this region is lower, and therefore, reflectance increases. In the NIR plateau (700-1100nm), absorption is controlled by cellulose and lignine, but also by the multiple scattering within the leaf, and thus, to the internal structure and interfaces of refraction within leaf layers. Towards the SWIR region, we see relatively strong absorption due to water, with some very important absorption peaks around 1450, 1950 and 2500 nm. "
   ]
  },
  {
   "cell_type": "markdown",
   "metadata": {},
   "source": [
    "### A simple plate model of leaf optical properties"
   ]
  },
  {
   "cell_type": "markdown",
   "metadata": {},
   "source": [
    "A simple approximation to a leaf can be a plate model, where we see the leaf as a layer with a particular refraction index $n_2$. The model can be depicted as\n",
    "![Single plate model of a leaf](single_plate_model.png)\n",
    "\n",
    "An incoming beam that enters the layer is partially reflected, partially transmitted and partially absorbed. The total reflectance can be calculated following the work of Airy, and after calculating an infinite summation yields\n",
    "\n",
    "$$\n",
    "R = r_{12}+\\frac{t_{12}t_{21}r_{21}\\tau^2}{1-r_{21}^2\\tau^2},\n",
    "$$\n",
    "\n",
    "where $r_{12}$ and $t_{12}$ are the average reflectivity and transmissivity for medium 1 into medium 2 (air to leaf) (similar arguments for $r_{21}$ and $t_{21}$. $\\tau$ is the fraction of light transmitted through the medium. A similar expression can be derived from the leaf transmissivity, $T$ (not shown). $r_{12}$ is calculated from Fresnel's equations for an incidence angle $\\theta$ and a refractive index $n$. We note that $r_{12} = 1- t_{12}$, $r_{21} = 1- t_{21}$ and that $t_{21}=t_{12}/n$. $\\tau$ is related to the absorption coefficient of the plate, $k$, as is calculated through Beer's law. This means that in order to calculate the leaf transmittance and reflectance with this simple model, we only need the refraction index $n$ and the absorption coefficient $k$.\n",
    "\n",
    "While the model presented above was successfully tested in a number of simple leaves and found to work reasonably well, it fails to account for more general leaves that exhibit a complex internal structure. To this end, the single plate model was extended to having a *stack* of $N$ plates and $N-1$ air layers between them. The solution to this new model was due to Stokes, and one finds that $T(N)$ and $R(N)$, respectively the transmittance and reflectance of a stack of $N$ layers is given by the following relationship\n",
    "\n",
    "$$\n",
    "\\frac{R(N)}{b^{N}-b^{-N}}=\\frac{T(N)}{a-a^{-1}}=\\frac{1}{ab^{N}-a^{-1}b^{-N}},\n",
    "$$\n",
    "\n",
    "where\n",
    "\n",
    "$$\n",
    "\\begin{align}\n",
    "a &=\\frac{1+R^{2}(1)-T^{2}(1) + \\Delta}{2R(1)}\\\\\n",
    "b &=\\frac{1-R^{2}(1)+T^{2}(1) + \\Delta}{2T(1)}\\\\\n",
    "\\Delta &= \\sqrt { (T^{2}(1)-R^{2}(1)-1)-4R^{2}(1)}.\n",
    "\\end{align}\n",
    "$$\n",
    "\n",
    "Here, $T(1)$ and $R(1)$ are the properties of a single layer. This approach was further extended to consider the case where $N$ is a non-integer number, and resulted in the PROSPECT model.\n",
    "\n"
   ]
  },
  {
   "cell_type": "code",
   "execution_count": null,
   "metadata": {
    "collapsed": true
   },
   "outputs": [],
   "source": []
  }
 ],
 "metadata": {
  "kernelspec": {
   "display_name": "Python 2",
   "language": "python",
   "name": "python2"
  },
  "language_info": {
   "codemirror_mode": {
    "name": "ipython",
    "version": 2
   },
   "file_extension": ".py",
   "mimetype": "text/x-python",
   "name": "python",
   "nbconvert_exporter": "python",
   "pygments_lexer": "ipython2",
   "version": "2.7.9"
  }
 },
 "nbformat": 4,
 "nbformat_minor": 0
}
