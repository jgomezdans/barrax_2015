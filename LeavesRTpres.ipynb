{
 "cells": [
  {
   "cell_type": "markdown",
   "metadata": {
    "slideshow": {
     "slide_type": "slide"
    }
   },
   "source": [
    "# Radiative transfer of leaves\n",
    "## Jose L Gómez-Dans (UCL & NCEO)"
   ]
  },
  {
   "cell_type": "markdown",
   "metadata": {
    "slideshow": {
     "slide_type": "slide"
    }
   },
   "source": [
    "### What is radiative transfer theory?\n",
    "\n",
    "* The properties of the leaves and the canopy are **combined**\n",
    "* For analysis, untangle response of the leaves and canopy.\n",
    "* We want to understand the **processes** and  **properties** that **control** sunlight being reflected by an e.g. canopy.\n",
    "* RT tries to derive a physical description of the **fate of photons** as they are **scattered** and **absorbed** within a canopy.\n",
    "* Let's start with **leaves**\n",
    "* ... then we'll embed them in a canopy.\n"
   ]
  },
  {
   "cell_type": "markdown",
   "metadata": {
    "slideshow": {
     "slide_type": "slide"
    }
   },
   "source": [
    "### Modelling leaf optical properties\n",
    "\n",
    "* Photon hits a leaf, it can be\n",
    "    * **absorbed** ($A$),\n",
    "    * **scattered** ($R$), or\n",
    "    * **transmitted** ($T$).\n",
    "* From energy conservation $A+R+T=1$\n",
    "* Implicit dependence on wavelength ($\\lambda$)"
   ]
  },
  {
   "cell_type": "markdown",
   "metadata": {
    "slideshow": {
     "slide_type": "slide"
    }
   },
   "source": [
    "### How does a leaf look like?\n",
    "#### Monocot\n",
    "![monocot leave](http://biobook.nerinxhs.org/bb/special_topics/microscopy/plantanatomy/monocot_leaf_labeled.jpg)\n"
   ]
  },
  {
   "cell_type": "markdown",
   "metadata": {
    "slideshow": {
     "slide_type": "subslide"
    }
   },
   "source": [
    "#### Dicot\n",
    "![dicot leave](http://biobook.nerinxhs.org/bb/special_topics/microscopy/plantanatomy/dicot_leaf_labeled.jpg)"
   ]
  },
  {
   "cell_type": "markdown",
   "metadata": {
    "slideshow": {
     "slide_type": "subslide"
    }
   },
   "source": [
    "<img width=80% src=http://images.tutorvista.com/cms/images/114/Leaf_anatomy.JPG />\n",
    " "
   ]
  },
  {
   "cell_type": "markdown",
   "metadata": {
    "slideshow": {
     "slide_type": "subslide"
    }
   },
   "source": [
    "![Internal leaf structure diagram](./figs/leaf++struture++cuticle+mesophyll+stoma.gif)"
   ]
  },
  {
   "cell_type": "markdown",
   "metadata": {
    "slideshow": {
     "slide_type": "slide"
    }
   },
   "source": [
    "### Leaf reflectance: directional aspects\n",
    "\n",
    "\n",
    "<img alt=\"diffuse and specular\" src=\"http://wiki.ktxsoftware.com/wiki/images/diffuseandspecular.gif\" width=50% />\n"
   ]
  },
  {
   "cell_type": "markdown",
   "metadata": {
    "slideshow": {
     "slide_type": "subslide"
    }
   },
   "source": [
    "![BRDF of a laurel leaf (Bousquet et al 2005)](./figs/bousquet_leaf_brdf.png)"
   ]
  },
  {
   "cell_type": "markdown",
   "metadata": {
    "slideshow": {
     "slide_type": "subslide"
    }
   },
   "source": [
    "* The wax cuticle  is bright, and scatters incoming radiation with a strong directional signal in the **specular** direction, $R_s$.\n",
    "* Specular response broadened by the leaf's surface **microtopography**.\n",
    "* At interfaces between different materials, photons are scattered.\n",
    "* Internal contribution $R_d$ is **Lambertian** (isotropic),  the result of  photons interacting with internal leaf structure and pigments."
   ]
  },
  {
   "cell_type": "markdown",
   "metadata": {
    "slideshow": {
     "slide_type": "slide"
    }
   },
   "source": [
    "### Leaf reflectance: spectral aspects\n",
    "\n",
    "<img src=\"./figs/LOPEX_clover_spectrum.png\" width=50% />\n",
    "Main spectral regions:\n",
    "\n",
    "1. VIS $[400-700nm]$: absorption of radiation in green leaves. Chlorophyll, carotenoids, ..\n",
    "2. NIR $[700-1100nm]$: multiple scattering due to air-cell wall interfaces, \n",
    "3. SWIR $[>1100nm]$: mostly water absorption, note peaks at 1450, 1950 and 2500 nm."
   ]
  },
  {
   "cell_type": "markdown",
   "metadata": {
    "slideshow": {
     "slide_type": "slide"
    }
   },
   "source": [
    "* We will focus on the Lambertian effect\n",
    "* This is a consequence of internal photon scattering\n",
    "* *therefore*, it should tell us something about the internal structure and composition of the leaf.\n",
    "* Although specular component is important, it is often neglected!\n"
   ]
  },
  {
   "cell_type": "markdown",
   "metadata": {
    "slideshow": {
     "slide_type": "slide"
    }
   },
   "source": [
    "### A simple leaf model\n",
    "\n",
    "* A monocot leaf looks like a **slab**\n",
    "\n",
    "<img src=\"./figs/leaves-32-728.jpg\" width=70% height=20% />\n",
    "\n",
    "* What's weird about this photo? ;-)\n"
   ]
  },
  {
   "cell_type": "markdown",
   "metadata": {
    "slideshow": {
     "slide_type": "slide"
    }
   },
   "source": [
    "* We can model it by considering the internal reflections of a bean inside a plate:\n",
    "\n",
    "<img alt=\"maize leaf\" src=\"http://upload.wikimedia.org/wikipedia/commons/thumb/8/89/Multiple_beam_interference.png/580px-Multiple_beam_interference.png\" width=75% height=20% />"
   ]
  },
  {
   "cell_type": "markdown",
   "metadata": {
    "slideshow": {
     "slide_type": "slide"
    }
   },
   "source": [
    "* Solution to plate model given Airy in 1833, applied to leaves by Allen and others in 1970s\n",
    "* We can write a fairly compact expression for the reflectance and transmittance of the plate that only depends on\n",
    "    * The index of reflection of the plate, $n$, and\n",
    "    * The absorption coefficient $k$.\n",
    "* The model works surprisingly well for monocots, but fails for more complex leaves or senescent leaves."
   ]
  },
  {
   "cell_type": "markdown",
   "metadata": {
    "slideshow": {
     "slide_type": "slide"
    }
   },
   "source": [
    "### A multilayer leaf model\n",
    "\n",
    "* Numerous photon scatter events take place at the **air-cell boundaries** within the leaf mesophyll\n",
    "* So extend model to have a **stack of plates** separated by **air interfaces** to account for these interactions\n",
    "<img src=\"./figs/Fig5.png\" width=\"80%\" height=\"20%\" />\n"
   ]
  },
  {
   "cell_type": "markdown",
   "metadata": {
    "slideshow": {
     "slide_type": "subslide"
    }
   },
   "source": [
    "* Problem solved by Stokes in 1862.\n",
    "* Can calculate leaf reflectance and transmittance of $N$ layers as a function of a single layer ($R(1)$ and $T(1)$):\n",
    "\n",
    "\n",
    "$$\n",
    "\\frac{R(N)}{b^{N}-b^{-N}}=\\frac{T(N)}{a-a^{-1}}=\\frac{1}{ab^{N}-a^{-1}b^{-N}},\n",
    "$$\n",
    "\n",
    "where\n",
    "\n",
    "$$\n",
    "\\begin{align}\n",
    "a &=\\frac{1+R^{2}(1)-T^{2}(1) + \\Delta}{2R(1)}\\\\\n",
    "b &=\\frac{1-R^{2}(1)+T^{2}(1) + \\Delta}{2T(1)}\\\\\n",
    "\\Delta &= \\sqrt { (T^{2}(1)-R^{2}(1)-1)-4R^{2}(1)}.\n",
    "\\end{align}\n",
    "$$"
   ]
  },
  {
   "cell_type": "markdown",
   "metadata": {
    "slideshow": {
     "slide_type": "slide"
    }
   },
   "source": [
    "* Can make number of layers a **real number** not an integer (e.g. 1.3 layers)\n",
    "* $\\Rightarrow$ **PROSPECT**\n",
    "* **PROSPECT** predicts leaf reflectance and transmittance as a function of \n",
    "    * $N$ (the number of layers $\\sim \\left[1.5-2.5\\right]$, a sort of internal complexity of the leaf parameter)\n",
    "    * Calculates $k$ from the concentrations of\n",
    "        * Chlorophyll a+b\n",
    "        * Leaf water\n",
    "        * \"Brown pigment\"\n",
    "        * \"Dry matter\"\n",
    "        * Carotenoids\n",
    "        "
   ]
  },
  {
   "cell_type": "markdown",
   "metadata": {
    "slideshow": {
     "slide_type": "subslide"
    }
   },
   "source": [
    "#### Chlorophyll a+b specific absorption \n",
    "![Cab sp abs](./figs/kcab.jpg)"
   ]
  },
  {
   "cell_type": "markdown",
   "metadata": {
    "slideshow": {
     "slide_type": "subslide"
    }
   },
   "source": [
    "#### Carotenoids specfic absorption\n",
    "![kcar](./figs/kcar.jpg)"
   ]
  },
  {
   "cell_type": "markdown",
   "metadata": {
    "slideshow": {
     "slide_type": "subslide"
    }
   },
   "source": [
    "#### Dry matter specific absorption\n",
    "![kdm](./figs/kdm.jpg)"
   ]
  },
  {
   "cell_type": "markdown",
   "metadata": {
    "slideshow": {
     "slide_type": "subslide"
    }
   },
   "source": [
    "#### Water specific absorption\n",
    "![kw](./figs/kw.jpg)"
   ]
  },
  {
   "cell_type": "markdown",
   "metadata": {
    "slideshow": {
     "slide_type": "slide"
    }
   },
   "source": [
    "* Cellulose and lignine as well as proteins have particular absorption fingerprints\n",
    "* However, absorption coincides with water absorption\n",
    "* Hence these responses lumped into \"Dry matter\"."
   ]
  },
  {
   "cell_type": "markdown",
   "metadata": {
    "slideshow": {
     "slide_type": "slide"
    }
   },
   "source": [
    "##Recap\n",
    "\n",
    "* Leaf BRDF\n",
    "    * Directional component due to surface specular reflection\n",
    "    * Lambertian component due to internal interactions\n",
    "* Leaves can be modelled as stacks of plates\n",
    "* Parsimonious model with a handful of parameters\n",
    "* **PROSPECT**:\n",
    "    * N layers ($N\\in R$)\n",
    "    * Chlorophyll concentration $(\\mu gcm^{-2})$\n",
    "    * Carotenoids $(\\mu gcm^{-2})$\n",
    "    * Equivalent water thickness $(cm)$)\n",
    "    * Dry matter $(gcm^{-2})$"
   ]
  }
 ],
 "metadata": {
  "celltoolbar": "Slideshow",
  "kernelspec": {
   "display_name": "Python 2",
   "language": "python",
   "name": "python2"
  },
  "language_info": {
   "codemirror_mode": {
    "name": "ipython",
    "version": 2
   },
   "file_extension": ".py",
   "mimetype": "text/x-python",
   "name": "python",
   "nbconvert_exporter": "python",
   "pygments_lexer": "ipython2",
   "version": "2.7.9"
  }
 },
 "nbformat": 4,
 "nbformat_minor": 0
}
