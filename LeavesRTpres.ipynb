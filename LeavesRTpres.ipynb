{
 "cells": [
  {
   "cell_type": "markdown",
   "metadata": {
    "slideshow": {
     "slide_type": "slide"
    }
   },
   "source": [
    "# Radiative transfer of leaves\n",
    "## Jose L Gómez-Dans (UCL & NCEO)"
   ]
  },
  {
   "cell_type": "markdown",
   "metadata": {
    "slideshow": {
     "slide_type": "slide"
    }
   },
   "source": [
    "### What is radiative transfer theory?\n",
    "\n",
    "* When using data, the properties of the leaves and the canopy are **combined**\n",
    "* For your analysis, you want to make sure you untangle the response of the leaves and canopy.\n",
    "* We want to understand the **processes** and  **properties** that **control** sunlight being reflected by an e.g. canopy.\n",
    "* RT tries to derive a physical description of the **fate of photons** as they are **scattered** and **absorbed** within a canopy.\n",
    "* Let's start with **leaves**\n"
   ]
  },
  {
   "cell_type": "markdown",
   "metadata": {
    "slideshow": {
     "slide_type": "slide"
    }
   },
   "source": [
    "### Modelling leaf optical properties\n",
    "\n",
    "* As a photon hits a leaf, it can be\n",
    "    * **absorbed** ($A$),\n",
    "    * **scattered** ($R$), or\n",
    "    * **transmitted** ($T$).\n",
    "* From energy conservation $A+R+T=1$\n",
    "* The values of these three terms vary with wavelength ($\\lambda$)\n",
    "* These variations allow us to **infer** something about the leaf biochemistry and internal structure"
   ]
  },
  {
   "cell_type": "markdown",
   "metadata": {
    "slideshow": {
     "slide_type": "slide"
    }
   },
   "source": [
    "### How does a leaf look like?\n",
    "#### Monocot\n",
    "![monocot leave](http://biobook.nerinxhs.org/bb/special_topics/microscopy/plantanatomy/monocot_leaf_labeled.jpg)\n"
   ]
  },
  {
   "cell_type": "markdown",
   "metadata": {
    "slideshow": {
     "slide_type": "subslide"
    }
   },
   "source": [
    "#### Dicot\n",
    "![dicot leave](http://biobook.nerinxhs.org/bb/special_topics/microscopy/plantanatomy/dicot_leaf_labeled.jpg)"
   ]
  },
  {
   "cell_type": "markdown",
   "metadata": {
    "slideshow": {
     "slide_type": "subslide"
    }
   },
   "source": [
    "![leaf anatomy schematic](http://images.tutorvista.com/cms/images/114/Leaf_anatomy.JPG)\n",
    " "
   ]
  },
  {
   "cell_type": "markdown",
   "metadata": {
    "slideshow": {
     "slide_type": "subslide"
    }
   },
   "source": [
    "![Internal leaf structure diagram](leaf++struture++cuticle+mesophyll+stoma.gif)"
   ]
  },
  {
   "cell_type": "markdown",
   "metadata": {
    "slideshow": {
     "slide_type": "slide"
    }
   },
   "source": [
    "### Angular leaf effects\n",
    "\n",
    "![diffuse & specular](http://wiki.ktxsoftware.com/wiki/images/diffuseandspecular.gif)\n"
   ]
  },
  {
   "cell_type": "markdown",
   "metadata": {
    "slideshow": {
     "slide_type": "subslide"
    }
   },
   "source": [
    "![BRDF of a laurel leaf (Bousquet et al 2005)](bousquet_leaf_brdf.png)"
   ]
  },
  {
   "cell_type": "markdown",
   "metadata": {
    "slideshow": {
     "slide_type": "subslide"
    }
   },
   "source": [
    "* The wax cuticle that protects the top of the leaf is typically bright, and scatters incoming radiation with a strong directional signal in the **specular** direction, $R_s$.\n",
    "* Although this is somehow broadened by the leaf's surface **topography**.\n",
    "* A photon that enters the leaf will be scattered internally whenever it encounters a discontinuity\n",
    "* This internal contribution $R_d$ is **Lambertian** (isotropic), and is the result of the photons having interacted with the internal leaf structure and pigments."
   ]
  },
  {
   "cell_type": "code",
   "execution_count": null,
   "metadata": {
    "collapsed": true
   },
   "outputs": [],
   "source": []
  }
 ],
 "metadata": {
  "celltoolbar": "Slideshow",
  "kernelspec": {
   "display_name": "Python 2",
   "language": "python",
   "name": "python2"
  },
  "language_info": {
   "codemirror_mode": {
    "name": "ipython",
    "version": 2
   },
   "file_extension": ".py",
   "mimetype": "text/x-python",
   "name": "python",
   "nbconvert_exporter": "python",
   "pygments_lexer": "ipython2",
   "version": "2.7.8"
  }
 },
 "nbformat": 4,
 "nbformat_minor": 0
}
