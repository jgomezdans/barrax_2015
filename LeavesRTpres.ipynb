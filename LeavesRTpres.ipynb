{
 "cells": [
  {
   "cell_type": "markdown",
   "metadata": {
    "slideshow": {
     "slide_type": "slide"
    }
   },
   "source": [
    "# Radiative transfer of leaves\n",
    "## Jose L Gómez-Dans (UCL & NCEO)"
   ]
  },
  {
   "cell_type": "markdown",
   "metadata": {
    "slideshow": {
     "slide_type": "slide"
    }
   },
   "source": [
    "### What is radiative transfer theory?\n",
    "\n",
    "* When using data, the properties of the leaves and the canopy are **combined**\n",
    "* For your analysis, you want to make sure you untangle the response of the leaves and canopy.\n",
    "* We want to understand the **processes** and  **properties** that **control** sunlight being reflected by an e.g. canopy.\n",
    "* RT tries to derive a physical description of the **fate of photons** as they are **scattered** and **absorbed** within a canopy.\n",
    "* Let's start with **leaves**\n"
   ]
  },
  {
   "cell_type": "markdown",
   "metadata": {
    "slideshow": {
     "slide_type": "slide"
    }
   },
   "source": [
    "### Modelling leaf optical properties\n",
    "\n",
    "* As a photon hits a leaf, it can be\n",
    "    * **absorbed** ($A$),\n",
    "    * **scattered** ($R$), or\n",
    "    * **transmitted** ($T$).\n",
    "* From energy conservation $A+R+T=1$\n",
    "* The values of these three terms vary with wavelength ($\\lambda$)\n",
    "* These variations allow us to **infer** something about the leaf biochemistry and internal structure"
   ]
  },
  {
   "cell_type": "markdown",
   "metadata": {
    "slideshow": {
     "slide_type": "slide"
    }
   },
   "source": [
    "### How does a leaf look like?\n",
    "#### Monocot\n",
    "![monocot leave](http://biobook.nerinxhs.org/bb/special_topics/microscopy/plantanatomy/monocot_leaf_labeled.jpg)\n"
   ]
  },
  {
   "cell_type": "markdown",
   "metadata": {
    "slideshow": {
     "slide_type": "subslide"
    }
   },
   "source": [
    "#### Dicot\n",
    "![dicot leave](http://biobook.nerinxhs.org/bb/special_topics/microscopy/plantanatomy/dicot_leaf_labeled.jpg)"
   ]
  },
  {
   "cell_type": "markdown",
   "metadata": {
    "slideshow": {
     "slide_type": "subslide"
    }
   },
   "source": [
    "![leaf anatomy schematic](http://images.tutorvista.com/cms/images/114/Leaf_anatomy.JPG)\n",
    " "
   ]
  },
  {
   "cell_type": "markdown",
   "metadata": {
    "slideshow": {
     "slide_type": "subslide"
    }
   },
   "source": [
    "![Internal leaf structure diagram](leaf++struture++cuticle+mesophyll+stoma.gif)"
   ]
  },
  {
   "cell_type": "markdown",
   "metadata": {
    "slideshow": {
     "slide_type": "slide"
    }
   },
   "source": [
    "### Leaf reflectance: directional aspects\n",
    "\n",
    "\n",
    "<img alt=\"diffuse and specular\" src=\"http://wiki.ktxsoftware.com/wiki/images/diffuseandspecular.gif\" width=50% />\n"
   ]
  },
  {
   "cell_type": "markdown",
   "metadata": {
    "slideshow": {
     "slide_type": "subslide"
    }
   },
   "source": [
    "![BRDF of a laurel leaf (Bousquet et al 2005)](bousquet_leaf_brdf.png)"
   ]
  },
  {
   "cell_type": "markdown",
   "metadata": {
    "slideshow": {
     "slide_type": "subslide"
    }
   },
   "source": [
    "* The wax cuticle that protects the top of the leaf is typically bright, and scatters incoming radiation with a strong directional signal in the **specular** direction, $R_s$.\n",
    "* Although this is somehow broadened by the leaf's surface **topography**.\n",
    "* A photon that enters the leaf will be scattered internally whenever it encounters a discontinuity\n",
    "* This internal contribution $R_d$ is **Lambertian** (isotropic), and is the result of the photons having interacted with the internal leaf structure and pigments."
   ]
  },
  {
   "cell_type": "markdown",
   "metadata": {
    "slideshow": {
     "slide_type": "slide"
    }
   },
   "source": [
    "### Leaf reflectance: spectral aspects\n",
    "\n",
    "<img src=\"./LOPEX_clover_spectrum.png\" width=50% />\n",
    "Main spectral regions:\n",
    "\n",
    "1. VIS $[400-700nm]$: absorption of  in green leaves. Chlorophyll, carotenoids, ..\n",
    "2. NIR $[700-1100nm]$: multiple scattering due to air-cell wall interfaces, \n",
    "3. SWIR $[>1100nm]$: mostly water absorption, note peaks at 1450, 1950 and 2500 nm."
   ]
  },
  {
   "cell_type": "markdown",
   "metadata": {
    "slideshow": {
     "slide_type": "slide"
    }
   },
   "source": [
    "* We will focus on the Lambertian effect\n",
    "* This is a consequence of internal photon scattering\n",
    "* *therefore*, it should tell us something about the internal structure and composition of the leaf.\n"
   ]
  },
  {
   "cell_type": "markdown",
   "metadata": {
    "slideshow": {
     "slide_type": "slide"
    }
   },
   "source": [
    "### A simple leaf model\n",
    "\n",
    "* A monocot leaf looks like a **slab**\n",
    "\n",
    "<img src=\"./leaves-32-728.jpg\" width=70% height=20% />\n",
    "\n",
    "* What's weird about this photo? ;-)\n"
   ]
  },
  {
   "cell_type": "markdown",
   "metadata": {
    "slideshow": {
     "slide_type": "slide"
    }
   },
   "source": [
    "* We can model it by considering the internal reflections of a bean inside a plate:\n",
    "\n",
    "<img alt=\"maize leaf\" src=\"http://upload.wikimedia.org/wikipedia/commons/thumb/8/89/Multiple_beam_interference.png/580px-Multiple_beam_interference.png\" width=75% height=20% />"
   ]
  },
  {
   "cell_type": "markdown",
   "metadata": {
    "slideshow": {
     "slide_type": "slide"
    }
   },
   "source": [
    "* Turns out that the answer to this problem was already put forward by  Airy in 1833.\n",
    "* We can write a fairly compact expression for the reflectance and transmittance of the plate that only depends on\n",
    "    * The index of reflection of the plate, $n$, and\n",
    "    * The absorption coefficient $k$.\n",
    "* The model works surprisingly well for monocots, but fails for more complex leaves or senescent leaves."
   ]
  },
  {
   "cell_type": "markdown",
   "metadata": {
    "slideshow": {
     "slide_type": "slide"
    }
   },
   "source": [
    "### A multilayer leaf model\n",
    "\n",
    "* The reason the plate model breaks is due to the numerous interactions that take place at the **air-cell boundaries** within the leaf\n",
    "* So extend model to have a **stack of plates** to account for these interactions\n",
    "<img src=\"./Fig5.png\" width=\"80%\" height=\"20%\" />\n"
   ]
  },
  {
   "cell_type": "markdown",
   "metadata": {
    "slideshow": {
     "slide_type": "subslide"
    }
   },
   "source": [
    "* Again, a problem solved by Stokes in 1862.\n",
    "* Can calculate leaf reflectance and transmittance of $N$ layers as a function of a single layer ($R(1)$ and $T(1)$):\n",
    "\n",
    "\n",
    "$$\n",
    "\\frac{R(N)}{b^{N}-b^{-N}}=\\frac{T(N)}{a-a^{-1}}=\\frac{1}{ab^{N}-a^{-1}b^{-N}},\n",
    "$$\n",
    "\n",
    "where\n",
    "\n",
    "$$\n",
    "\\begin{align}\n",
    "a &=\\frac{1+R^{2}(1)-T^{2}(1) + \\Delta}{2R(1)}\\\\\n",
    "b &=\\frac{1-R^{2}(1)+T^{2}(1) + \\Delta}{2T(1)}\\\\\n",
    "\\Delta &= \\sqrt { (T^{2}(1)-R^{2}(1)-1)-4R^{2}(1)}.\n",
    "\\end{align}\n",
    "$$"
   ]
  },
  {
   "cell_type": "markdown",
   "metadata": {
    "slideshow": {
     "slide_type": "slide"
    }
   },
   "source": [
    "* Further, we can make the number of layers a **real number** not an integer (e.g. 1.3 layers)\n",
    "* With this change, we have end up with **PROSPECT**, a widely used leaf RT model\n",
    "* **PROSPECT** predicts leaf reflectance and transmittance as a function of \n",
    "    * $N$ (the number of layers $\\sim \\left[1.5-2.5\\right]$, a sort of internal complexity of the leaf parameter)\n",
    "    * Calculates $k$ from the concentrations of\n",
    "        * Chlorophyll a+b\n",
    "        * Leaf water\n",
    "        * \"Brown pigment\"\n",
    "        * \"Dry matter\"\n",
    "        * Carotenoids\n",
    "        "
   ]
  },
  {
   "cell_type": "markdown",
   "metadata": {
    "slideshow": {
     "slide_type": "slide"
    }
   },
   "source": [
    "* Cellulose and lignine as well as proteins have particular absorption fingerprints\n",
    "* However, absorption coincides with water absorption\n",
    "* Hence these responses lumped into \"Dry matter\"."
   ]
  },
  {
   "cell_type": "markdown",
   "metadata": {
    "slideshow": {
     "slide_type": "slide"
    }
   },
   "source": [
    "* Now, some experiments with **PROSPECT**!!!"
   ]
  }
 ],
 "metadata": {
  "celltoolbar": "Slideshow",
  "kernelspec": {
   "display_name": "Python 2",
   "language": "python",
   "name": "python2"
  },
  "language_info": {
   "codemirror_mode": {
    "name": "ipython",
    "version": 2
   },
   "file_extension": ".py",
   "mimetype": "text/x-python",
   "name": "python",
   "nbconvert_exporter": "python",
   "pygments_lexer": "ipython2",
   "version": "2.7.9"
  }
 },
 "nbformat": 4,
 "nbformat_minor": 0
}
