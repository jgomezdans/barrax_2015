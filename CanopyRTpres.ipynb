{
 "cells": [
  {
   "cell_type": "markdown",
   "metadata": {
    "slideshow": {
     "slide_type": "slide"
    }
   },
   "source": [
    "# Introduction to canopy RT modelling\n",
    "## J Gómez-Dans (UCL & NCEO)\n",
    "\n"
   ]
  },
  {
   "cell_type": "markdown",
   "metadata": {
    "slideshow": {
     "slide_type": "slide"
    }
   },
   "source": [
    "* In the previous Session we looked at RT modelling of **leaves**\n",
    "* Now we will consider a **full canopy**\n",
    "* We will just the basics, as the aim is that you can start using well-established RT models\n",
    "* Obviously, lots more to cover!"
   ]
  },
  {
   "cell_type": "markdown",
   "metadata": {
    "slideshow": {
     "slide_type": "slide"
    }
   },
   "source": [
    "* We will mostly consider a **turbid medium** canopy\n",
    "* That is a random volume of leaves and air\n",
    "* In the optical domain, the size of the objects is $>>\\lambda$\n",
    "<img src=\"http://romc.jrc.ec.europa.eu/WWW/PAGES/ROMC_Home/MISCELLANEOUS/HOM01.gif\" width=\"80%\" />"
   ]
  },
  {
   "cell_type": "markdown",
   "metadata": {
    "slideshow": {
     "slide_type": "slide"
    }
   },
   "source": [
    "### Define the canopy\n",
    "\n",
    "* Vertical leaf area density function $u_{L}(z)\\,\\left(m^{2}m^{-3}\\right)$,\n",
    "* Vertical leaf *number* density function (e.g. the number of particles per unit volume), $N_{v}(z)\\,\\left(N\\,particles\\, m^{-3}\\right)$\n",
    "\n",
    "$$\n",
    "LAI = \\int_{z=0}^{z=H} u_{L}(z)dz\n",
    "$$\n"
   ]
  },
  {
   "cell_type": "markdown",
   "metadata": {
    "slideshow": {
     "slide_type": "slide"
    }
   },
   "source": [
    "* Distribution of the leaf normal angles, $g_{L}(z, \\vec{\\Omega}_{L})$ (dimensionless),\n",
    "* Leaf size distribution, defined as area density to leaf number density and thickness.\n",
    "\n",
    "<img src=\"http://www2.geog.ucl.ac.uk/~plewis/vegsci2002/part1/notes/Image49.gif\" width=80% height=20% />"
   ]
  },
  {
   "cell_type": "markdown",
   "metadata": {
    "slideshow": {
     "slide_type": "slide"
    }
   },
   "source": [
    "#### Some examples of leaf angle distribution functions\n",
    "<img src=\"./figs/g_func.png\" width=\"90%\" height=\"40%\" />"
   ]
  },
  {
   "cell_type": "markdown",
   "metadata": {
    "slideshow": {
     "slide_type": "slide"
    }
   },
   "source": [
    "### The radiative transfer equation\n",
    "\n",
    "<img src=\"./figs/Image111.gif\" width=80% height=30% />\n",
    "\n",
    "The RTE describes the change of **incident radiance intensity** at a specific height and direction $I(z,\\vec{\\Omega})$.\n",
    "\n",
    "$$\n",
    "\\mu\\cdot\\frac{\\partial I(z,\\vec{\\Omega})}{\\partial z} = \\overbrace{-\\kappa_{e}\\cdot I(z,\\vec{\\Omega})}^{\\textsf{Attenuation}} + \\underbrace{J_{s}(z,\\vec{\\Omega})}_{\\textsf{Volume scattering}},\n",
    "$$\n"
   ]
  },
  {
   "cell_type": "markdown",
   "metadata": {
    "slideshow": {
     "slide_type": "slide"
    }
   },
   "source": [
    "###Attenuation\n",
    "\n",
    "* Attenuation is governed by Beer's Law\n",
    "$$\n",
    "I(z)=I(0)\\exp(-\\kappa_{e}\\cdot z)=I(0)\\exp(-\\kappa_e\\cdot LAI)\n",
    "$$\n",
    "* $\\kappa_{e}$ is the product of the medium's **particle density** and the **extinction x-section**\n",
    "    * Also split into radiation **absorbed** and **scattered away in other directions**.\n",
    "* Remember that $LAI = \\int_{z=0}^{z=-H}u_{L}(z)dz$\n",
    "* **Q** *What value of LAI is needed to intercept 99% of the radiation if $\\kappa=1$?* "
   ]
  },
  {
   "cell_type": "markdown",
   "metadata": {
    "slideshow": {
     "slide_type": "slide"
    }
   },
   "source": [
    "* What if your particles (leaves) are **oriented**?\n",
    "* We need to **project** the leaf area density across the beam direction $\\vec{\\Omega}$\n",
    "* We project the leaf angle distribution function $u_{L}(z)$ using into $\\vec{\\Omega}$ by multiplying by \n",
    "\n",
    "\n",
    "$$\n",
    "G(\\vec{\\Omega})=\\int_{2\\pi} g_{L}(\\vec{\\Omega}')\\left| \\vec{\\Omega}\\cdot\\vec{\\Omega}'\\right| d\\vec{\\Omega}'.\n",
    "$$   "
   ]
  },
  {
   "cell_type": "markdown",
   "metadata": {
    "slideshow": {
     "slide_type": "slide"
    }
   },
   "source": [
    "\n",
    "$$\n",
    "G(\\vec{\\Omega})=\\int_{2\\pi} g_{L}(\\vec{\\Omega}')\\left| \\vec{\\Omega}\\cdot\\vec{\\Omega}'\\right| d\\vec{\\Omega}'.\n",
    "$$\n",
    "\n",
    "![G function](./figs/G_func.png)"
   ]
  },
  {
   "cell_type": "markdown",
   "metadata": {
    "slideshow": {
     "slide_type": "slide"
    }
   },
   "source": [
    "* From the previous slide, we have that\n",
    "\n",
    "$$\n",
    "I(z)=I(0)\\exp\\left[-u_{L}\\cdot G\\left(\\vec{\\Omega}\\right)\\cdot \\frac{z}{\\mu}\\right],\n",
    "$$\n",
    "where $\\kappa_{e}=G(\\vec{\\Omega})/\\mu$.\n",
    "\n",
    "So...\n",
    "\n",
    "* Attenuation is a function of \n",
    "    * Leaf area\n",
    "    * leaf angle distribution\n",
    "    * direction of propagation\n"
   ]
  },
  {
   "cell_type": "markdown",
   "metadata": {
    "slideshow": {
     "slide_type": "slide"
    }
   },
   "source": [
    "* What happens to $\\kappa_e$ when...\n",
    "    * Sun is overhead, vertical leaves?\n",
    "    * Leaves are horizontal?\n",
    "        * Zenith angle is low?\n",
    "        * Zenith angle is high?\n",
    "    * At around $\\sim 1 rad$  angle?\n",
    "    "
   ]
  },
  {
   "cell_type": "markdown",
   "metadata": {
    "slideshow": {
     "slide_type": "slide"
    }
   },
   "source": [
    "### Volume scattering\n",
    "\n",
    "$$\n",
    "J_{s}(z,\\vec{\\Omega}) = \\int_{4\\pi} P(z,\\vec{\\Omega}'\\rightarrow\\vec{\\Omega})\\cdot I(\\vec{\\Omega}',\\vec{\\Omega})d\\vec{\\Omega}' ,\n",
    "$$\n",
    "\n",
    "* Indicates scattered incoming radiation from all directions into the viewing direction $\\vec{\\Omega}$.\n",
    "* $P(\\cdot)$ is the *phase function*\n",
    "* In the optical domain, we tend to specify $P(\\cdot)$ as a function of **leaf area density** and an **area scattering function** $\\Gamma(\\cdot)$.\n",
    "\n",
    "\n"
   ]
  },
  {
   "cell_type": "markdown",
   "metadata": {
    "slideshow": {
     "slide_type": "slide"
    }
   },
   "source": [
    "$$\n",
    "\\begin{align}\n",
    "\\Gamma\\left(\\vec{\\Omega}'\\rightarrow\\vec{\\Omega}\\right) &= \\frac{1}{4\\pi}\\int_{2\\pi+}\\rho_{L}(\\vec{\\Omega}', \\vec{\\Omega})g_{L}(\\vec{\\Omega_{L}})\\left|\\vec{\\Omega}\\cdot\\vec{\\Omega}_{L} \\right|\\left|\\vec{\\Omega}'\\cdot\\vec{\\Omega}_{L} \\right|d\\vec{\\Omega}' \\\\\\\\\n",
    "&+ \\frac{1}{4\\pi}\\int_{2\\pi-}\\tau_{L}(\\vec{\\Omega}', \\vec{\\Omega})g_{L}(\\vec{\\Omega_{L}})\\left|\\vec{\\Omega}\\cdot\\vec{\\Omega}_{L} \\right|\\left|\\vec{\\Omega}'\\cdot\\vec{\\Omega}_{L} \\right|d\\vec{\\Omega}' \\\\\n",
    "\\end{align}\n",
    "$$\n",
    "\n",
    "* $\\Gamma$ is a **double projection** of the leaf angle distribution, modulated by the directional reflectance (upper hemisphere) and transmittance (lower hemisphere)\n",
    "* This is quite similar to $G$\n",
    "* Typically, we assume leaves to be bi-Lambertian, so simplify....\n",
    "$$\n",
    "\\Gamma\\left(\\vec{\\Omega}'\\rightarrow\\vec{\\Omega}\\right)  = \\rho_{L}\\cdot\\Gamma^{\\uparrow}(\\vec{\\Omega}, \\vec{\\Omega}') + \\tau_{L}\\cdot\\Gamma^{\\downarrow}(\\vec{\\Omega}, \\vec{\\Omega}')\n",
    "$$\n",
    "\n",
    "* Also, if we assume $\\rho\\sim\\tau$ (or a linear function), $\\Gamma$ is a weighting of the upper and lower double projections of the leaf angle distribution modulated by the spectral properties of the single scattering albedo."
   ]
  },
  {
   "cell_type": "markdown",
   "metadata": {
    "slideshow": {
     "slide_type": "slide"
    }
   },
   "source": [
    "### Solving the RTE\n",
    "\n",
    "* Expressions for attenuation and scattering $\\Rightarrow$ can solve the RTE.\n",
    "* Need a bottom boundary (=soil)\n",
    "* Assume **only the first interaction** (only one interaction with canopy or soil)\n",
    "* I will skip over the algebra to give an expression for the **directional reflectance factor**:\n",
    "\n",
    "$$\n",
    "\\begin{align}\n",
    "\\rho(\\vec{\\Omega}_{s}, \\vec{\\Omega}_{o}) =&  \\exp\\left\\lbrace -L\\cdot\\left[ \\frac{G(\\vec{\\Omega}_{s})\\mu_{o} + G(\\vec{\\Omega}_{o})\\mu_{s}} {\\mu_s\\mu_o} \\right]\\right\\rbrace \\cdot \\rho_{soil}(\\vec{\\Omega}_{s}, \\vec{\\Omega}_{o}) \\\\\\\\\n",
    "&+ \\frac{\\Gamma\\left(\\vec{\\Omega}'\\rightarrow\\vec{\\Omega}\\right)}{G(\\vec{\\Omega}_{s})\\mu_{o} + G(\\vec{\\Omega}_{o})\\mu_{s}}\\cdot\\left\\lbrace 1 -  \\exp\\left[ -L\\cdot\\left( \\frac{G(\\vec{\\Omega}_{s})\\mu_{o} + G(\\vec{\\Omega}_{o})\\mu_{s}} {\\mu_{s}\\mu_{o}} \\right)\\right]\\right\\rbrace\\\\\\\\\n",
    "\\end{align}\n",
    "$$\n",
    "\n"
   ]
  },
  {
   "cell_type": "markdown",
   "metadata": {
    "slideshow": {
     "slide_type": "subslide"
    }
   },
   "source": [
    "![1st order RTE solution](./figs/Image230.gif)"
   ]
  },
  {
   "cell_type": "markdown",
   "metadata": {
    "slideshow": {
     "slide_type": "subslide"
    }
   },
   "source": [
    "#### 2 terms!\n",
    "\n",
    "1. $\\exp\\left\\lbrace -L\\cdot\\left[ \\frac{G(\\vec{\\Omega}_{s})\\mu_{o} + G(\\vec{\\Omega}_{o})\\mu_{s}} {\\mu_s\\mu_o} \\right]\\right\\rbrace \\cdot \\rho_{soil}(\\vec{\\Omega}_{s}, \\vec{\\Omega}_{o})$\n",
    "    * Radiation travelling through the canopy $\\rightarrow$ hitting the soil $\\rightarrow$ traversing the canopy upwards\n",
    "    * Double attenuation is given by Beer's Law, and controlled by LAI and leaf angle distribution\n",
    "2. $\\frac{\\Gamma\\left(\\vec{\\Omega}'\\rightarrow\\vec{\\Omega}\\right)}{G(\\vec{\\Omega}_{s})\\mu_{o} + G(\\vec{\\Omega}_{o})\\mu_{s}}\\cdot\\left\\lbrace 1 -  \\exp\\left[ -L\\cdot\\left( \\frac{G(\\vec{\\Omega}_{s})\\mu_{o} + G(\\vec{\\Omega}_{o})\\mu_{s}} {\\mu_{s}\\mu_{o}} \\right)\\right]\\right\\rbrace$\n",
    "    * Volumetric scattering of the canopy\n",
    "    * Controlled by area scattering phase fanction $\\rightarrow$ control by single scattering albedo\n",
    "    * Inverse dependency in $G$ and view-illumination angles\n",
    "    * Dependence on LAI too"
   ]
  },
  {
   "cell_type": "markdown",
   "metadata": {
    "slideshow": {
     "slide_type": "subslide"
    }
   },
   "source": [
    "* *When can we ignore the contribution of the soil?*\n"
   ]
  },
  {
   "cell_type": "markdown",
   "metadata": {
    "slideshow": {
     "slide_type": "slide"
    }
   },
   "source": [
    "### (Yet) more simplifying assumptions...\n",
    "\n",
    "* Assume a spherical leaf angle distribution function & bi-Lambertian leaves\n",
    "    * *What does this mean?*\n",
    "* If reflectance is assumed to be **linearly related** to transmittance $ k = 1 + \\tau_{L}/\\rho_{L}$\n",
    "\n",
    "$$\n",
    "\\Gamma\\left(\\vec{\\Omega}'\\rightarrow\\vec{\\Omega}\\right) = \\frac{\\rho_{L}k}{3\\pi}\\left[\\sin\\gamma + \\left(\\frac{\\pi}{k}-\\gamma\\right)\\cos\\gamma\\right]\n",
    "$$\n",
    "\n",
    "* $\\cos\\gamma=\\left|\\vec{\\Omega}'\\cdot\\vec{\\Omega}\\right|$\n"
   ]
  },
  {
   "cell_type": "markdown",
   "metadata": {
    "slideshow": {
     "slide_type": "slide"
    }
   },
   "source": [
    "$$\n",
    "\\Gamma\\left(\\vec{\\Omega}'\\rightarrow\\vec{\\Omega}\\right) = \\frac{\\rho_{L}k}{3\\pi}\\left[\\sin\\gamma + \\left(\\frac{\\pi}{k}-\\gamma\\right)\\cos\\gamma\\right]\n",
    "$$\n",
    "\n",
    "![Gamma func](./figs/Gamma_func.png)"
   ]
  },
  {
   "cell_type": "markdown",
   "metadata": {
    "slideshow": {
     "slide_type": "slide"
    }
   },
   "source": [
    "###Recap\n",
    "\n",
    "* For first order solution, $\\rho(\\Omega, \\Omega')$...\n",
    "    * Refl factor combination of two tersm: uncollided direct & collided volume term\n",
    "    * double attenuated soil return (dependent on leaf angle distribution, LAI, view/illum angles)\n",
    "    * volume scattering: as above, but also dependent on leaf optical properties\n",
    "        * Tends to be larger for larger phase angles\n",
    "* Remember *all* the assumptions we made!!!\n",
    "* In the NIR, $\\omega$ is quite high, need multiple scattering terms!\n"
   ]
  },
  {
   "cell_type": "markdown",
   "metadata": {},
   "source": []
  },
  {
   "cell_type": "markdown",
   "metadata": {
    "slideshow": {
     "slide_type": "slide"
    }
   },
   "source": [
    "###Multiple scattering\n",
    "\n",
    "\n",
    "* Range of approximate solutions available\n",
    "    * Successive orders of scattering (SOSA)\n",
    "    * 2 & 4 stream approaches etc. etc.\n",
    "    * Monte Carlo ray tracing (MCRT)\n",
    "* Recent advances using concept of recollision probability, $p$"
   ]
  },
  {
   "cell_type": "markdown",
   "metadata": {
    "slideshow": {
     "slide_type": "subslide"
    }
   },
   "source": [
    "###LAI = 1\n",
    "<img src=\"./figs/scatter_order_lai1.png\" />"
   ]
  },
  {
   "cell_type": "markdown",
   "metadata": {
    "slideshow": {
     "slide_type": "subslide"
    }
   },
   "source": [
    "###LAI = 5\n",
    "<img src=\"./figs/scatter_order_lai5.png\" />"
   ]
  },
  {
   "cell_type": "markdown",
   "metadata": {
    "slideshow": {
     "slide_type": "subslide"
    }
   },
   "source": [
    "###LAI = 8\n",
    "<img  src=\"./figs/scatter_order_lai8.png\" />"
   ]
  },
  {
   "cell_type": "markdown",
   "metadata": {
    "slideshow": {
     "slide_type": "slide"
    }
   },
   "source": [
    "####Recollision probability\n",
    "\n",
    "![recollision prob1](./figs/recollision_prob1.png)"
   ]
  },
  {
   "cell_type": "markdown",
   "metadata": {
    "slideshow": {
     "slide_type": "slide"
    }
   },
   "source": [
    "![recollision probability 2](./figs/recollision_prob2.png)"
   ]
  },
  {
   "cell_type": "markdown",
   "metadata": {
    "slideshow": {
     "slide_type": "slide"
    }
   },
   "source": [
    "$$\n",
    "\\begin{align}\n",
    "\\frac{s}{i_0}&=\\omega(1-p) + \\omega^2(1-p)p + \\omega^2(1-p)p^2 + \\dots\\\\\\\\\n",
    "&=\\omega(1-p)\\left[ 1 + \\omega p + \\omega^2p^2 + \\dots\\right]\\\\\\\\\n",
    "&=\\frac{\\omega(1-p)}{1-p\\omega}\n",
    "\\end{align}\n",
    "$$\n",
    "\n",
    "* $p$ is en eigenvalue of the RT equation $\\Rightarrow$ only depends on structure\n",
    "* We can use this form to describe reflectance if black soil (or dense canopy)\n",
    "* From Smolander & Sternberg (2005),\n",
    "$$\n",
    "p = 0.88 \\left[ 1 - \\exp(- 0.7 LAI^{0.75}) \\right]\n",
    "$$\n",
    "    * Assuming spherical leaf angle distribution"
   ]
  },
  {
   "cell_type": "markdown",
   "metadata": {
    "slideshow": {
     "slide_type": "slide"
    }
   },
   "source": [
    "### The hotspot effect\n",
    "\n",
    "* The term \n",
    "$$\n",
    "\\exp\\left[-L\\frac{G(\\vec{\\Omega}_s)\\mu_o + G(\\vec{\\Omega}_o)\\mu_s}{\\mu_s\\cdot\\mu_o}\\right]\n",
    "$$\n",
    "is usually called the *joint gap probability*, and is the probability of a photon traversing the canopy downwards and then upwards without a collision.\n",
    "* We have assumed these two probabilities are independent, which holds in general... \n"
   ]
  },
  {
   "cell_type": "markdown",
   "metadata": {
    "slideshow": {
     "slide_type": "slide"
    }
   },
   "source": [
    "* but what happens if we consider the retroreflection (=backscatter) direction?\n",
    "* Then, the downward and upward probabilities need to be identical!\n",
    "* We need a correction factor for the hotspot direction!\n",
    "* The increased gap probability results in an enhancement of the reflectance factor (the *hotspot*) \n",
    "\n",
    "<img src=\"./figs/brfpp_HOM13_DIS_PLA_RED_20.gif\" style=\"float: left; width: 45%; margin-right: 1%; margin-bottom: 0.5em;\" /><img src=\"./figs/brfpp_HOM13_DIS_PLA_NIR_20.gif\" style=\"float: left; width: 45%; margin-right: 1%; margin-bottom: 0.5em;\" />\n"
   ]
  },
  {
   "cell_type": "markdown",
   "metadata": {
    "collapsed": true,
    "slideshow": {
     "slide_type": "slide"
    }
   },
   "source": [
    "### Discontinous canopies\n",
    "\n",
    "* We have looked at a turbid medium\n",
    "![anisotropic soil](./figs/ANISOTROPIC_SOIL.jpeg)\n",
    "* This might be acceptable for a grass canopy such as cereals\n",
    "* But clearly not right for a savanna!\n",
    "![Discontinous canopy](./figs/TCL_medOVST_sparsUNDRSTRY.jpeg)"
   ]
  },
  {
   "cell_type": "markdown",
   "metadata": {
    "slideshow": {
     "slide_type": "slide"
    }
   },
   "source": [
    "* **Clumping** of the canopoy can be encoded as a modulation on LAI, $C$\n",
    "* So the gap fraction becomes\n",
    "$$\n",
    "\\exp\\left(-L\\cdot C\\frac{G(\\Omega)}{\\mu}\\right)\n",
    "$$\n",
    "\n",
    "* We can think of the LAI of a clumped canopy as being **effective** if $C\\neq1$\n",
    "* Canopy types:\n",
    "    1. Random distribution: For each layer of leaves, there is 37% overlapping. $C=1$.\n",
    "    2. Clumped distribution: For each layer ofleaves, there is more than 37% overlapping. $C < 1$\n",
    "    3. regular distribution: For each layer of leaves,there is less than 37% overlapping. $C > 1$\n",
    "![clumping map](./figs/clumping_index_map.png)"
   ]
  },
  {
   "cell_type": "markdown",
   "metadata": {
    "slideshow": {
     "slide_type": "slide"
    }
   },
   "source": [
    "* Clumping has an effect on the radiation regime inside the canopy\n",
    "\n",
    "* $\\Rightarrow$ effect on GPP\n",
    "![Comparison](./figs/gpp_clumping_dgvm.png)\n",
    "* In the plot\n",
    "    * Case I: LAI and clumping considered\n",
    "    * Case II: clumping considered\n",
    "    * Case III: effective LAI\n",
    "* Case II vs Case I: ignoring $C$ results in an overestimation of  sunlit leaves $\\Rightarrow$ increase in GPP\n",
    "* Case III vs Case I: underestimation of shaded leaf LAI $\\Rightarrow$ decrease in GPP"
   ]
  },
  {
   "cell_type": "markdown",
   "metadata": {
    "slideshow": {
     "slide_type": "slide"
    }
   },
   "source": [
    "### Extending a turbid medium to deal with discontinuous canopies\n",
    "\n",
    "* Need to deal with the mutual shadowing of e.g. tree crowns, soil, etc. $\\Rightarrow$ Geometrical optics (GO)\n",
    "* A first stage is to assume that crowns are turbid mediums\n",
    "    * Calculate scattering & attenuation\n",
    "    * Deal with shadowing\n",
    "![Quaife2008](./figs/quaife2008b.png)"
   ]
  },
  {
   "cell_type": "markdown",
   "metadata": {
    "slideshow": {
     "slide_type": "slide"
    }
   },
   "source": [
    "### Using models to \"validate\" other models\n",
    "\n",
    "* Hard to measure many processes (e.g. contribution of multiple scattering)\n",
    "* $\\Rightarrow$ use simpler models as a *surrogate reality*\n",
    "* $\\Rightarrow$ aim here is to understand e.g. effects of assumptions, etc\n",
    "* [RAdiative transfer Model Intercomparison (RAMI)](http://rami-benchmark.jrc.ec.europa.eu/HTML/Home.php)"
   ]
  },
  {
   "cell_type": "markdown",
   "metadata": {},
   "source": [
    "Summary\n",
    "\n",
    "1. Turbid medium approximation\n",
    "2. 1st O: attenuation & volume scattering\n",
    "    - leaf angle distribution, geometry, LAI...\n",
    "    - Assumptions to make modelling tractable\n",
    "3. Multiple scattering\n",
    "    - $p$-theory\n",
    "4. Hotspot effect\n",
    "5. Discontinuous canopies\n",
    "6. RAMI-type efforts"
   ]
  }
 ],
 "metadata": {
  "celltoolbar": "Slideshow",
  "kernelspec": {
   "display_name": "Python 2",
   "language": "python",
   "name": "python2"
  },
  "language_info": {
   "codemirror_mode": {
    "name": "ipython",
    "version": 2
   },
   "file_extension": ".py",
   "mimetype": "text/x-python",
   "name": "python",
   "nbconvert_exporter": "python",
   "pygments_lexer": "ipython2",
   "version": "2.7.9"
  }
 },
 "nbformat": 4,
 "nbformat_minor": 0
}
