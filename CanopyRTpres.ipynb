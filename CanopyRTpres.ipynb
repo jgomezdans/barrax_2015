{
 "cells": [
  {
   "cell_type": "markdown",
   "metadata": {
    "slideshow": {
     "slide_type": "slide"
    }
   },
   "source": [
    "# Introduction to canopy RT modelling\n",
    "## J Gómez-Dans (UCL & NCEO)\n",
    "\n"
   ]
  },
  {
   "cell_type": "markdown",
   "metadata": {
    "slideshow": {
     "slide_type": "slide"
    }
   },
   "source": [
    "* In the previous Session we looked at RT modelling of **leaves**\n",
    "* Now we will consider a **full canopy**\n",
    "* We will just the basics, as the aim is that you can start using well-established RT models\n",
    "* Obviously, lots more to cover!"
   ]
  },
  {
   "cell_type": "markdown",
   "metadata": {
    "slideshow": {
     "slide_type": "slide"
    }
   },
   "source": [
    "* We will mostly consider a **turbid medium** canopy\n",
    "* That is a random volume of leaves and air\n",
    "* In the optical domain, the size of the objects is $>>\\lambda$\n",
    "<img src=\"http://romc.jrc.ec.europa.eu/WWW/PAGES/ROMC_Home/MISCELLANEOUS/HOM01.gif\" width=\"80%\" />"
   ]
  },
  {
   "cell_type": "markdown",
   "metadata": {
    "slideshow": {
     "slide_type": "slide"
    }
   },
   "source": [
    "### Define the canopy\n",
    "\n",
    "* Vertical leaf area density function $u_{L}(z)\\,\\left(m^{2}m^{-3}\\right)$,\n",
    "* Vertical leaf *number* density function (e.g. the number of particles per unit volume), $N_{v}(z)\\,\\left(N\\,particles\\, m^{-3}\\right)$\n",
    "\n",
    "$$\n",
    "LAI = \\int_{z=0}^{z=H} u_{L}(z)dz\n",
    "$$\n"
   ]
  },
  {
   "cell_type": "markdown",
   "metadata": {
    "slideshow": {
     "slide_type": "slide"
    }
   },
   "source": [
    "* Distribution of the leaf normal angles, $g_{L}(z, \\vec{\\Omega}_{L})$ (dimensionless),\n",
    "* Leaf size distribution, defined as area density to leaf number density and thickness.\n",
    "\n",
    "<img src=\"http://www2.geog.ucl.ac.uk/~plewis/vegsci2002/part1/notes/Image49.gif\" width=80% height=20% />"
   ]
  },
  {
   "cell_type": "markdown",
   "metadata": {
    "slideshow": {
     "slide_type": "slide"
    }
   },
   "source": [
    "#### Some examples of leaf angle distribution functions\n",
    "<img src=\"./g_func.png\" width=\"90%\" height=\"60%\" />"
   ]
  },
  {
   "cell_type": "markdown",
   "metadata": {
    "slideshow": {
     "slide_type": "slide"
    }
   },
   "source": [
    "### The radiative transfer equation\n",
    "\n",
    "![Plane parallel geometry](Image111.gif)\n",
    "\n",
    "The RTE describes the change of **incident radiance intensity** at a specific height and direction $I(z,\\vec{\\Omega})$.\n",
    "\n",
    "$$\n",
    "\\mu\\cdot\\frac{\\partial I(z,\\vec{\\Omega})}{\\partial z} = \\overbrace{-\\kappa_{e}\\cdot I(z,\\vec{\\Omega})}^{\\textsf{Attenuation}} + \\underbrace{J_{s}(z,\\vec{\\Omega})}_{\\textsf{Volume scattering}},\n",
    "$$\n"
   ]
  },
  {
   "cell_type": "markdown",
   "metadata": {
    "slideshow": {
     "slide_type": "slide"
    }
   },
   "source": [
    "###Attenuation\n",
    "\n",
    "* Attenuation is governed by Beer's Law\n",
    "$$\n",
    "I(z)=I(0)\\exp(-\\kappa_{e}\\cdot z).\n",
    "$$\n",
    "* $\\kappa_{e}$ is the product of the medium's **particle density** and the **extinction x-section**\n",
    "    * Also split into radiation **absorbed** and **scattered away in other directions**.\n",
    "* What if your particles (leaves) are **oriented**?\n",
    "* We need to **project** the leaf area density across the beam direction $\\vec{\\Omega}$\n",
    "* We project the leaf angle distribution function $u_{L}(z)$ using into $\\vec{\\Omega}$ by multiplying by \n",
    "\n",
    "\n",
    "$$\n",
    "G(\\vec{\\Omega})=\\int_{2\\pi} g_{L}(\\vec{\\Omega}')\\left| \\vec{\\Omega}\\cdot\\vec{\\Omega}'\\right| d\\vec{\\Omega}'.\n",
    "$$   "
   ]
  },
  {
   "cell_type": "markdown",
   "metadata": {
    "slideshow": {
     "slide_type": "slide"
    }
   },
   "source": [
    "\n",
    "$$\n",
    "G(\\vec{\\Omega})=\\int_{2\\pi} g_{L}(\\vec{\\Omega}')\\left| \\vec{\\Omega}\\cdot\\vec{\\Omega}'\\right| d\\vec{\\Omega}'.\n",
    "$$\n",
    "\n",
    "![G function](./G_func.png)"
   ]
  },
  {
   "cell_type": "markdown",
   "metadata": {
    "slideshow": {
     "slide_type": "slide"
    }
   },
   "source": [
    "* From the previous slide, we have that\n",
    "\n",
    "$$\n",
    "I(z)=I(0)\\exp\\left[-u_{L}\\cdot G\\left(\\vec{\\Omega}\\right)\\cdot \\frac{z}{\\mu}\\right],\n",
    "$$\n",
    "where $\\kappa_{e}=u_{L}G(\\vec{\\Omega})$.\n",
    "\n",
    "So...\n",
    "\n",
    "* Attenuation is a function of \n",
    "    * Leaf area\n",
    "    * leaf angle distribution\n",
    "    * direction of propagation\n",
    "    * Optical properties of the leaves"
   ]
  }
 ],
 "metadata": {
  "celltoolbar": "Slideshow",
  "kernelspec": {
   "display_name": "Python 2",
   "language": "python",
   "name": "python2"
  },
  "language_info": {
   "codemirror_mode": {
    "name": "ipython",
    "version": 2
   },
   "file_extension": ".py",
   "mimetype": "text/x-python",
   "name": "python",
   "nbconvert_exporter": "python",
   "pygments_lexer": "ipython2",
   "version": "2.7.9"
  }
 },
 "nbformat": 4,
 "nbformat_minor": 0
}
