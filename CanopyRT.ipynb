{
 "cells": [
  {
   "cell_type": "markdown",
   "metadata": {},
   "source": [
    "# Canopy radiative transfer modelling\n",
    "## J Gómez-Dans (UCL & NCEO)\n",
    "\n",
    "### Introduction\n",
    "\n",
    "So far, we have only considered the optical properties of a single leaf. However, in most practical scenarios, you will be dealing with a canopy, a spatial arrangement of leaves. The optical properties of individual leaves will of course control the canopy reflectance, but the overall signal will be a combination of the leaf properties and the canopy structural properties (as well as the contribution from the soil and the atmosphere, if you have not corrected for it). It is critical to understand this: you will not get sensible results trying to understand the signal of a canopy using and assuming it is a single leaf. In this Session, we will contemplate the use of a simple RT modelling approach\n",
    "\n",
    "### Describing a canopy\n",
    "\n",
    "Perhaps the first step is to provide a simple definition of a canopy that somehow abstracts some of the complexity found in a real world canopy. Perhaps the first obvious step is to consider the elements that we will need to understand. These include the description of the canopy architecture (e.g. the geometrical arrangement of leaves, branches, etc.), the optical properties of the elements of the canopy (for example, the leaf reflectance and transmittance), and the optical properties of the bottom boundary, the soil layer.\n",
    "\n",
    "To describe the canopy, we assume that a canopy is just a volume made up of leaves (this assumes that contribution from other woody material is relatively low). To describe such an object, we need three elements:\n",
    "\n",
    "* the vertical leaf area density function $u_{L}(z)\\,\\left(m^{2}m^{-3}\\right)$,\n",
    "* the vertical leaf *number* density function (e.g. the number of particles per unit volume), $N_{v}(z)\\,\\left(N\\,particles\\, m^{-3}\\right)$ might be used as an alternative.\n",
    "* The angular orientation of the leaves, expressed by the distribution of the leaf normal angles, $g_{L}(z, \\Omega_{L})$ (dimensionless),\n",
    "* The leaf size distribution, defined as area density to leaf number density and thickness. \n",
    "\n",
    "The last concept is important for microwave modelling, as the size of the elemental scatterers is of the same order as the wavelength. In the optical domain, the size of the leaves is always large compared to the wavelength, so this concept is only weakly relevant\n"
   ]
  }
 ],
 "metadata": {
  "kernelspec": {
   "display_name": "Python 2",
   "language": "python",
   "name": "python2"
  },
  "language_info": {
   "codemirror_mode": {
    "name": "ipython",
    "version": 2
   },
   "file_extension": ".py",
   "mimetype": "text/x-python",
   "name": "python",
   "nbconvert_exporter": "python",
   "pygments_lexer": "ipython2",
   "version": "2.7.9"
  }
 },
 "nbformat": 4,
 "nbformat_minor": 0
}
